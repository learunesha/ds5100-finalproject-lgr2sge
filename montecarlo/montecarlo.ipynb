{
 "cells": [
  {
   "cell_type": "code",
   "execution_count": null,
   "id": "b61815d9-3d09-4f55-9abe-e04496ad344d",
   "metadata": {},
   "outputs": [],
   "source": [
    "# classwork for june 28th "
   ]
  }
 ],
 "metadata": {
  "kernelspec": {
   "display_name": "Python 3 (ipykernel)",
   "language": "python",
   "name": "python3"
  },
  "language_info": {
   "codemirror_mode": {
    "name": "ipython",
    "version": 3
   },
   "file_extension": ".py",
   "mimetype": "text/x-python",
   "name": "python",
   "nbconvert_exporter": "python",
   "pygments_lexer": "ipython3",
   "version": "3.11.4"
  }
 },
 "nbformat": 4,
 "nbformat_minor": 5
}
